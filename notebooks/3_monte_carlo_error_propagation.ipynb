{
 "cells": [
  {
   "cell_type": "code",
   "execution_count": null,
   "metadata": {},
   "outputs": [],
   "source": [
    "import lmfit as lm\n",
    "import numpy as np\n",
    "import xarray as xr"
   ]
  },
  {
   "cell_type": "markdown",
   "metadata": {},
   "source": [
    "Say we want to calculate the kinetic energy and we have measurements:\n",
    "\n",
    "m = 5(1) kg\n",
    "\n",
    "v = 10(2) m/s\n",
    "\n",
    "Let's calculate the error by Monte Carlo error propagation. In this case we could also have calculated the error analytically, but in more complicated scenario's a method like Monte Carlo is the only reasonable approach."
   ]
  },
  {
   "cell_type": "code",
   "execution_count": null,
   "metadata": {},
   "outputs": [],
   "source": [
    "def kinetic_energy_J(m_kg, v_mps):\n",
    "    return 0.5 * m_kg * v_mps**2"
   ]
  },
  {
   "cell_type": "markdown",
   "metadata": {},
   "source": [
    "Lets start again using `xarray`."
   ]
  },
  {
   "cell_type": "code",
   "execution_count": null,
   "metadata": {},
   "outputs": [],
   "source": [
    "ds = xr.Dataset()\n",
    "ds[\"v_mps\"] = 5\n",
    "ds.v_mps.attrs = {\"long_name\": \"Velocity\", \"units\": \"m/s\"}\n",
    "ds[\"m_kg\"] = 10\n",
    "ds.m_kg.attrs = {\"long_name\": \"Mass\", \"units\": \"kg\"}\n",
    "ds[\"Ekin_J\"] = xr.apply_ufunc(kinetic_energy_J, ds.m_kg, ds.v_mps)\n",
    "ds.Ekin_J.attrs = {\"long_name\": \"Energy\", \"units\": \"J\"}\n",
    "ds"
   ]
  },
  {
   "cell_type": "markdown",
   "metadata": {},
   "source": [
    "So the value of the kinetic energy is 125 J, but what about the error?"
   ]
  },
  {
   "cell_type": "markdown",
   "metadata": {},
   "source": [
    "Let's sample from the distribution of m and v and calculate for each realization the kinetic energy, this should give us then the distribution of values for the kinetic energy for the variability in v and m."
   ]
  },
  {
   "cell_type": "code",
   "execution_count": null,
   "metadata": {},
   "outputs": [],
   "source": [
    "v_mps_mean = 5\n",
    "v_mps_std = 1\n",
    "m_kg_mean = 10\n",
    "m_kg_std = 2\n",
    "mc_size = 10000\n",
    "ds = xr.Dataset()\n",
    "ds[\"v_mps\"] = xr.DataArray(np.random.normal(v_mps_mean, v_mps_std, mc_size), dims=\"mc\")\n",
    "ds.v_mps.attrs = {\"long_name\": \"Velocity\", \"units\": \"m/s\"}\n",
    "ds[\"m_kg\"] = xr.DataArray(np.random.normal(m_kg_mean, m_kg_std, mc_size), dims=\"mc\")\n",
    "ds.m_kg.attrs = {\"long_name\": \"Mass\", \"units\": \"kg\"}\n",
    "ds[\"Ekin_J\"] = xr.apply_ufunc(kinetic_energy_J, ds.m_kg, ds.v_mps)\n",
    "ds.Ekin_J.attrs = {\"long_name\": \"Energy\", \"units\": \"J\"}\n",
    "ds"
   ]
  },
  {
   "cell_type": "code",
   "execution_count": null,
   "metadata": {},
   "outputs": [],
   "source": [
    "ds.Ekin_J.plot.hist(bins=50, density=True);"
   ]
  },
  {
   "cell_type": "markdown",
   "metadata": {},
   "source": [
    "From this distribution we can calculate the mean and standard deviation for the kinetic energy."
   ]
  },
  {
   "cell_type": "code",
   "execution_count": null,
   "metadata": {},
   "outputs": [],
   "source": [
    "Ekin_J_mean = ds.Ekin_J.mean(\"mc\")\n",
    "Ekin_J_std = ds.Ekin_J.std(\"mc\")\n",
    "print(f\"E_kin = {Ekin_J_mean:.1f} +- {Ekin_J_std:.1f} J\")"
   ]
  },
  {
   "cell_type": "markdown",
   "metadata": {},
   "source": [
    "Let's now plot the extracted distribution over the Monte Carlo results and compare the two."
   ]
  },
  {
   "cell_type": "code",
   "execution_count": null,
   "metadata": {},
   "outputs": [],
   "source": [
    "ds_fit = xr.Dataset()\n",
    "ds_fit[\"Ekin\"] = np.linspace(0, 500, 200)\n",
    "ds_fit.Ekin.attrs = {\"long_name\": \"Energy\", \"units\": \"J\"}\n",
    "\n",
    "ds_fit[\"pdf\"] = xr.DataArray(\n",
    "    lm.models.GaussianModel().eval(x=ds_fit.Ekin, center=Ekin_J_mean, sigma=Ekin_J_std),\n",
    "    dims=\"Ekin\",\n",
    ")\n",
    "\n",
    "ds.Ekin_J.plot.hist(bins=50, density=True)\n",
    "ds_fit.pdf.plot()"
   ]
  },
  {
   "cell_type": "markdown",
   "metadata": {},
   "source": [
    "We can see that the non-linear scaling with the velocity has resulted in a skewed distribution. Giving rise to a different mean of around 131 J compared to the 125 J calcuated from the means of the mass and velocity."
   ]
  }
 ],
 "metadata": {
  "kernelspec": {
   "display_name": ".venv",
   "language": "python",
   "name": "python3"
  },
  "language_info": {
   "codemirror_mode": {
    "name": "ipython",
    "version": 3
   },
   "file_extension": ".py",
   "mimetype": "text/x-python",
   "name": "python",
   "nbconvert_exporter": "python",
   "pygments_lexer": "ipython3",
   "version": "3.13.0"
  }
 },
 "nbformat": 4,
 "nbformat_minor": 2
}
