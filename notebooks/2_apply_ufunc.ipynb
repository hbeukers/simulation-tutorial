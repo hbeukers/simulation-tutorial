{
 "cells": [
  {
   "cell_type": "code",
   "execution_count": null,
   "metadata": {},
   "outputs": [],
   "source": [
    "import numpy as np\n",
    "import xarray as xr"
   ]
  },
  {
   "cell_type": "markdown",
   "metadata": {},
   "source": [
    "This notebook will show the advantage of using `xr.apply_ufunc` over directly calling the functions.\n",
    "It will treat three options: vectorize, output_core_dims and input_core_dims."
   ]
  },
  {
   "cell_type": "markdown",
   "metadata": {},
   "source": [
    "## vectorize"
   ]
  },
  {
   "cell_type": "markdown",
   "metadata": {},
   "source": [
    "Let's start where we left off the last notebook."
   ]
  },
  {
   "cell_type": "code",
   "execution_count": null,
   "metadata": {},
   "outputs": [],
   "source": [
    "def kinetic_energy_J(m_kg, v_mps):\n",
    "    return 0.5 * m_kg * v_mps**2"
   ]
  },
  {
   "cell_type": "code",
   "execution_count": null,
   "metadata": {},
   "outputs": [],
   "source": [
    "ds = xr.Dataset()\n",
    "ds[\"v_mps\"] = np.linspace(0, 10)\n",
    "ds.v_mps.attrs = {\"long_name\": \"Velocity\", \"units\": \"m/s\"}\n",
    "ds[\"m_kg\"] = np.linspace(3, 17)\n",
    "ds.m_kg.attrs = {\"long_name\": \"Mass\", \"units\": \"kg\"}\n",
    "ds[\"Ekin_j\"] = kinetic_energy_J(ds.m_kg, ds.v_mps)\n",
    "ds.Ekin_j.attrs = {\"long_name\": \"Energy\", \"units\": \"J\"}\n",
    "ds"
   ]
  },
  {
   "cell_type": "markdown",
   "metadata": {},
   "source": [
    "Say we introduce a check for the mass, not allowing negative masses."
   ]
  },
  {
   "cell_type": "code",
   "execution_count": null,
   "metadata": {},
   "outputs": [],
   "source": [
    "def kinetic_energy_J_check(m_kg, v_mps):\n",
    "    if m_kg < 0:  # Not allowed for numpy array\n",
    "        raise ValueError(\"Mass should be positive!\")\n",
    "    return 0.5 * m_kg * v_mps**2"
   ]
  },
  {
   "cell_type": "markdown",
   "metadata": {},
   "source": [
    "This will raise an error as the function can only handle `m_kg` of type `float` and `int`, not an entire `numpy` array."
   ]
  },
  {
   "cell_type": "code",
   "execution_count": null,
   "metadata": {},
   "outputs": [],
   "source": [
    "ds = xr.Dataset()\n",
    "ds[\"v_mps\"] = np.linspace(0, 10)\n",
    "ds.v_mps.attrs = {\"long_name\": \"Velocity\", \"units\": \"m/s\"}\n",
    "ds[\"m_kg\"] = np.linspace(3, 17)\n",
    "ds.m_kg.attrs = {\"long_name\": \"Mass\", \"units\": \"kg\"}\n",
    "ds[\"Ekin_J\"] = kinetic_energy_J_check(ds.m_kg, ds.v_mps)\n",
    "ds.Ekin_J.attrs = {\"long_name\": \"Energy\", \"units\": \"J\"}\n",
    "ds"
   ]
  },
  {
   "cell_type": "markdown",
   "metadata": {},
   "source": [
    "Using `vectorize=True` in `xr.apply_ufunc` will fix this as it will deconstruct the input arrays and call the function for each value seperately. This is much slower than before, but sometimes functions can't handle inputs that are arrays, but expect `int` or `float`. A good example are `qutip` simulations as we will see later."
   ]
  },
  {
   "cell_type": "code",
   "execution_count": null,
   "metadata": {},
   "outputs": [],
   "source": [
    "ds = xr.Dataset()\n",
    "ds[\"v_mps\"] = np.linspace(0, 10)\n",
    "ds.v_mps.attrs = {\"long_name\": \"Velocity\", \"units\": \"m/s\"}\n",
    "ds[\"m_kg\"] = np.linspace(3, 17)\n",
    "ds.m_kg.attrs = {\"long_name\": \"Mass\", \"units\": \"kg\"}\n",
    "ds[\"Ekin_j\"] = xr.apply_ufunc(kinetic_energy_J_check, ds.m_kg, ds.v_mps, vectorize=True)\n",
    "ds.Ekin_j.attrs = {\"long_name\": \"Energy\", \"units\": \"J\"}\n",
    "ds"
   ]
  },
  {
   "cell_type": "markdown",
   "metadata": {},
   "source": [
    "This works! However, what we should have done:"
   ]
  },
  {
   "cell_type": "code",
   "execution_count": null,
   "metadata": {},
   "outputs": [],
   "source": [
    "def kinetic_energy_j_check_fast(m_kg, v_mps):\n",
    "    if np.all(m_kg < 0):  # Allowed for numpy array\n",
    "        raise ValueError(\"Mass should be positive!\")\n",
    "    return 0.5 * m_kg * v_mps**2\n",
    "\n",
    "\n",
    "ds = xr.Dataset()\n",
    "ds[\"v_mps\"] = np.linspace(0, 10)\n",
    "ds.v_mps.attrs = {\"long_name\": \"Velocity\", \"units\": \"m/s\"}\n",
    "ds[\"m_kg\"] = np.linspace(3, 17)\n",
    "ds.m_kg.attrs = {\"long_name\": \"Mass\", \"units\": \"kg\"}\n",
    "ds[\"Ekin_J\"] = kinetic_energy_j_check_fast(ds.m_kg, ds.v_mps)\n",
    "ds.Ekin_J.attrs = {\"long_name\": \"Energy\", \"units\": \"J\"}\n",
    "ds"
   ]
  },
  {
   "cell_type": "markdown",
   "metadata": {},
   "source": [
    "Use vectorize only if you cannot achieve the same thing with a native numpy function. This will be so much faster."
   ]
  },
  {
   "cell_type": "markdown",
   "metadata": {},
   "source": [
    "## output_core_dims 1"
   ]
  },
  {
   "cell_type": "markdown",
   "metadata": {},
   "source": [
    "Now we will show another advantage of `xr.apply_ufunc`: handeling functions that do not have the same data format for the inputs as for the outputs."
   ]
  },
  {
   "cell_type": "markdown",
   "metadata": {},
   "source": [
    "We now want to draw a random sample from a normal distribution:"
   ]
  },
  {
   "cell_type": "code",
   "execution_count": null,
   "metadata": {},
   "outputs": [],
   "source": [
    "mean = 0\n",
    "sigma = 1\n",
    "points = 10\n",
    "random = np.random.normal(mean, sigma, points)\n",
    "random"
   ]
  },
  {
   "cell_type": "code",
   "execution_count": null,
   "metadata": {},
   "outputs": [],
   "source": [
    "mean = 0\n",
    "points = 10\n",
    "ds = xr.Dataset()\n",
    "ds[\"sigma\"] = 1\n",
    "ds[\"random\"] = np.random.normal(mean, ds.sigma, points)\n",
    "ds"
   ]
  },
  {
   "cell_type": "markdown",
   "metadata": {},
   "source": [
    "If we now want to sweep the sigma of the distribution, this will give problems:"
   ]
  },
  {
   "cell_type": "code",
   "execution_count": null,
   "metadata": {},
   "outputs": [],
   "source": [
    "mean = 0\n",
    "points = 10\n",
    "ds = xr.Dataset()\n",
    "ds[\"sigma\"] = np.linspace(1, 2)\n",
    "ds[\"random\"] = np.random.normal(mean, ds.sigma, points)\n",
    "ds"
   ]
  },
  {
   "cell_type": "markdown",
   "metadata": {},
   "source": [
    "The reason why this fails is that `np.random.normal` does only accepts floats as inputs so we should vectorize:"
   ]
  },
  {
   "cell_type": "code",
   "execution_count": null,
   "metadata": {},
   "outputs": [],
   "source": [
    "mean = 0\n",
    "points = 10\n",
    "ds = xr.Dataset()\n",
    "ds[\"sigma\"] = np.linspace(1, 2)\n",
    "ds[\"random\"] = xr.apply_ufunc(np.random.normal, mean, ds.sigma, points, vectorize=True)\n",
    "ds"
   ]
  },
  {
   "cell_type": "markdown",
   "metadata": {},
   "source": [
    "The reason why it still fails is that we need to tell `xr.apply_ufunc` that it receives an array back while it only supplied a `float`. We can do this by using `output_core_dims=[['random']]`. It is a list with the number of return values and each element is a list with the dimension that are coming back extra."
   ]
  },
  {
   "cell_type": "code",
   "execution_count": null,
   "metadata": {},
   "outputs": [],
   "source": [
    "mean = 0\n",
    "points = 10\n",
    "ds = xr.Dataset()\n",
    "ds[\"sigma\"] = np.linspace(1, 2)\n",
    "ds[\"random\"] = xr.apply_ufunc(\n",
    "    np.random.normal,\n",
    "    mean,\n",
    "    ds.sigma,\n",
    "    points,\n",
    "    output_core_dims=[[\"random\"]],\n",
    "    vectorize=True,\n",
    ")\n",
    "ds"
   ]
  },
  {
   "cell_type": "markdown",
   "metadata": {},
   "source": [
    "## output_core_dims 2"
   ]
  },
  {
   "cell_type": "markdown",
   "metadata": {},
   "source": [
    "Another example of using `output_core_dims` is when we have multiple return values:"
   ]
  },
  {
   "cell_type": "code",
   "execution_count": null,
   "metadata": {},
   "outputs": [],
   "source": [
    "def kinetic_energy_and_momentum(m_kg, v_m_per_s):\n",
    "    energy = 0.5 * m_kg * v_m_per_s**2\n",
    "    momentum = m_kg * v_m_per_s\n",
    "    return energy, momentum"
   ]
  },
  {
   "cell_type": "markdown",
   "metadata": {},
   "source": [
    "Now we need to say that there are two return values, both without additional dims, so `output_core_dims=[[], []]`"
   ]
  },
  {
   "cell_type": "code",
   "execution_count": null,
   "metadata": {},
   "outputs": [],
   "source": [
    "ds = xr.Dataset()\n",
    "ds[\"m\"] = 5\n",
    "ds[\"v\"] = np.linspace(0, 10)\n",
    "ds[\"Ekin\"], ds[\"momentum\"] = xr.apply_ufunc(\n",
    "    kinetic_energy_and_momentum, ds.m, ds.v, output_core_dims=[[], []]\n",
    ")\n",
    "ds"
   ]
  },
  {
   "cell_type": "markdown",
   "metadata": {},
   "source": [
    "## input_core_dims"
   ]
  },
  {
   "cell_type": "markdown",
   "metadata": {},
   "source": [
    "Let's now compute the standard deviation of this random sample:"
   ]
  },
  {
   "cell_type": "code",
   "execution_count": null,
   "metadata": {},
   "outputs": [],
   "source": [
    "mean = 0\n",
    "sigma = 1\n",
    "points = 10\n",
    "random = np.random.normal(mean, sigma, points)\n",
    "std = np.std(random)\n",
    "std"
   ]
  },
  {
   "cell_type": "markdown",
   "metadata": {},
   "source": [
    "With the `xarray` implementation:"
   ]
  },
  {
   "cell_type": "code",
   "execution_count": null,
   "metadata": {},
   "outputs": [],
   "source": [
    "mean = 0\n",
    "points = 10\n",
    "ds = xr.Dataset()\n",
    "ds[\"sigma\"] = np.linspace(1, 2)\n",
    "ds[\"random\"] = xr.apply_ufunc(\n",
    "    np.random.normal,\n",
    "    mean,\n",
    "    ds.sigma,\n",
    "    points,\n",
    "    output_core_dims=[[\"random\"]],\n",
    "    vectorize=True,\n",
    ")\n",
    "ds[\"stderr\"] = xr.apply_ufunc(np.std, ds.random)\n",
    "ds"
   ]
  },
  {
   "cell_type": "markdown",
   "metadata": {},
   "source": [
    "Which fails because it expected the function to return an array of the size of the random dimension.\n",
    "\n",
    "So we need to tell `xr.apply_ufunc` that the function \"eats\" an dimension, we do this by setting `input_core_dims`=[['random']], telling it that the first (and in this case only) argument of the function should be of the same shape as random and that this dimension will not be part of the return values."
   ]
  },
  {
   "cell_type": "code",
   "execution_count": null,
   "metadata": {},
   "outputs": [],
   "source": [
    "mean = 0\n",
    "points = 10\n",
    "ds = xr.Dataset()\n",
    "ds[\"sigma\"] = np.linspace(1, 2)\n",
    "ds[\"random\"] = xr.apply_ufunc(\n",
    "    np.random.normal,\n",
    "    mean,\n",
    "    ds.sigma,\n",
    "    points,\n",
    "    output_core_dims=[[\"random\"]],\n",
    "    vectorize=True,\n",
    ")\n",
    "ds[\"stderr\"] = xr.apply_ufunc(np.std, ds.random, input_core_dims=[[\"random\"]])\n",
    "ds"
   ]
  },
  {
   "cell_type": "markdown",
   "metadata": {},
   "source": [
    "Let's now sweep the sigma of the distribution again:"
   ]
  },
  {
   "cell_type": "code",
   "execution_count": null,
   "metadata": {},
   "outputs": [],
   "source": [
    "mean = 0\n",
    "points = 10\n",
    "ds = xr.Dataset()\n",
    "ds[\"sigma\"] = np.linspace(1, 2)\n",
    "ds[\"random\"] = xr.apply_ufunc(\n",
    "    np.random.normal,\n",
    "    mean,\n",
    "    ds.sigma,\n",
    "    points,\n",
    "    output_core_dims=[[\"random\"]],\n",
    "    vectorize=True,\n",
    ")\n",
    "ds[\"stderr\"] = xr.apply_ufunc(np.std, ds.random, input_core_dims=[[\"random\"]])\n",
    "ds"
   ]
  },
  {
   "cell_type": "markdown",
   "metadata": {},
   "source": [
    "Now the problem is that mean has collapsed the whole input array to a single float including the sigma dimension. We need to tell the function that it needs run the function separately for each sigma input with `vectorize=True`."
   ]
  },
  {
   "cell_type": "code",
   "execution_count": null,
   "metadata": {},
   "outputs": [],
   "source": [
    "mean = 0\n",
    "points = 10\n",
    "ds = xr.Dataset()\n",
    "ds[\"sigma\"] = np.linspace(1, 2)\n",
    "ds[\"random\"] = xr.apply_ufunc(\n",
    "    np.random.normal,\n",
    "    mean,\n",
    "    ds.sigma,\n",
    "    points,\n",
    "    output_core_dims=[[\"random\"]],\n",
    "    vectorize=True,\n",
    ")\n",
    "ds[\"stderr\"] = xr.apply_ufunc(\n",
    "    np.std, ds.random, input_core_dims=[[\"random\"]], vectorize=True\n",
    ")\n",
    "ds"
   ]
  },
  {
   "cell_type": "code",
   "execution_count": null,
   "metadata": {},
   "outputs": [],
   "source": [
    "from matplotlib import pyplot as plt\n",
    "\n",
    "ds.sigma.plot()\n",
    "ds.stderr.plot.scatter()\n",
    "plt.show()"
   ]
  }
 ],
 "metadata": {
  "kernelspec": {
   "display_name": ".venv",
   "language": "python",
   "name": "python3"
  },
  "language_info": {
   "codemirror_mode": {
    "name": "ipython",
    "version": 3
   },
   "file_extension": ".py",
   "mimetype": "text/x-python",
   "name": "python",
   "nbconvert_exporter": "python",
   "pygments_lexer": "ipython3",
   "version": "3.13.0"
  }
 },
 "nbformat": 4,
 "nbformat_minor": 2
}
