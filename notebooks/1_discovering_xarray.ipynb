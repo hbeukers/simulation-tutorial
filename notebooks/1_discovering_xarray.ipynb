{
 "cells": [
  {
   "cell_type": "markdown",
   "metadata": {},
   "source": [
    "# Discover xarray"
   ]
  },
  {
   "cell_type": "markdown",
   "metadata": {},
   "source": [
    "In this notebook we will take an example of \"simulating\" the kinetic energy for different masses and velocities. We start of doing the calculation in `numpy` and slowly transition to `xarray`."
   ]
  },
  {
   "cell_type": "code",
   "execution_count": null,
   "metadata": {},
   "outputs": [],
   "source": [
    "import matplotlib.pyplot as plt\n",
    "import numpy as np"
   ]
  },
  {
   "cell_type": "markdown",
   "metadata": {},
   "source": [
    "Let's say we are interested in simulating the kinetic energy for all combinations of the following values: "
   ]
  },
  {
   "cell_type": "code",
   "execution_count": null,
   "metadata": {},
   "outputs": [],
   "source": [
    "v_mps = np.linspace(0, 10)\n",
    "m_kg = np.linspace(3, 17)"
   ]
  },
  {
   "cell_type": "code",
   "execution_count": null,
   "metadata": {},
   "outputs": [],
   "source": [
    "v_mps"
   ]
  },
  {
   "cell_type": "markdown",
   "metadata": {},
   "source": [
    "We can do that in the following way"
   ]
  },
  {
   "cell_type": "code",
   "execution_count": null,
   "metadata": {},
   "outputs": [],
   "source": [
    "Ekin_J = 0.5 * np.expand_dims(m_kg, 1) * v_mps**2\n",
    "Ekin_J"
   ]
  },
  {
   "cell_type": "markdown",
   "metadata": {},
   "source": [
    "Plotting it gives us some insights but it is hard to interpret because the axis have no labels and the ticks are based on the index of the array not on the values of v and m."
   ]
  },
  {
   "cell_type": "code",
   "execution_count": null,
   "metadata": {},
   "outputs": [],
   "source": [
    "plt.pcolormesh(Ekin_J)"
   ]
  },
  {
   "cell_type": "markdown",
   "metadata": {},
   "source": [
    "Doing calculations is possible but require remembering what axis is what:"
   ]
  },
  {
   "cell_type": "code",
   "execution_count": null,
   "metadata": {},
   "outputs": [],
   "source": [
    "# What is the average over all speeds\n",
    "Ekin_J.mean(axis=1)"
   ]
  },
  {
   "cell_type": "markdown",
   "metadata": {},
   "source": [
    "## Labeling the axes"
   ]
  },
  {
   "cell_type": "markdown",
   "metadata": {},
   "source": [
    "We can use `xarray` to give names to the axes (now called dims), which makes interpretation much easier. "
   ]
  },
  {
   "cell_type": "code",
   "execution_count": null,
   "metadata": {},
   "outputs": [],
   "source": [
    "import xarray as xr"
   ]
  },
  {
   "cell_type": "code",
   "execution_count": null,
   "metadata": {},
   "outputs": [],
   "source": [
    "v_mps = xr.DataArray(np.linspace(0, 10), dims=\"v_mps\")\n",
    "m_kg = xr.DataArray(np.linspace(3, 17), dims=\"m_kg\")"
   ]
  },
  {
   "cell_type": "markdown",
   "metadata": {},
   "source": [
    "Now you can see that the dim has the name `v_mps` and has a length of 50."
   ]
  },
  {
   "cell_type": "code",
   "execution_count": null,
   "metadata": {},
   "outputs": [],
   "source": [
    "v_mps"
   ]
  },
  {
   "cell_type": "markdown",
   "metadata": {},
   "source": [
    "Doing calculation is now simplified as `xarray` knows which axis to match and which to broadcast."
   ]
  },
  {
   "cell_type": "code",
   "execution_count": null,
   "metadata": {},
   "outputs": [],
   "source": [
    "Ekin_J = 0.5 * m_kg * v_mps**2\n",
    "Ekin_J"
   ]
  },
  {
   "cell_type": "markdown",
   "metadata": {},
   "source": [
    "Plotting will now also indicate the name of the dim."
   ]
  },
  {
   "cell_type": "code",
   "execution_count": null,
   "metadata": {},
   "outputs": [],
   "source": [
    "Ekin_J.plot()"
   ]
  },
  {
   "cell_type": "markdown",
   "metadata": {},
   "source": [
    "Calculations can now be done without remembering the order of the axes as you just supply the name of the dim."
   ]
  },
  {
   "cell_type": "code",
   "execution_count": null,
   "metadata": {},
   "outputs": [],
   "source": [
    "Ekin_J.mean(\"v_mps\")"
   ]
  },
  {
   "cell_type": "markdown",
   "metadata": {},
   "source": [
    "## Adding coordinates"
   ]
  },
  {
   "cell_type": "markdown",
   "metadata": {},
   "source": [
    "It would be great if the plot would have directly the right ticks, coming from the mass and velocity and not the indexes of the array. In `xarray` this is called a coordinate. A coordinate is an array that \"labels\" a dimension."
   ]
  },
  {
   "cell_type": "code",
   "execution_count": null,
   "metadata": {},
   "outputs": [],
   "source": [
    "v_mps_array = np.linspace(0, 10)\n",
    "v_mps = xr.DataArray(v_mps_array, dims=\"v_mps\", coords={\"v_mps\": v_mps_array})\n",
    "m_kg_array = np.linspace(3, 17)\n",
    "m_kg = xr.DataArray(m_kg_array, dims=\"m_kg\", coords={\"m_kg\": m_kg_array})"
   ]
  },
  {
   "cell_type": "markdown",
   "metadata": {},
   "source": [
    "You can now see that `v_mps` is bold and that means there is a coordinate associated with that dimension."
   ]
  },
  {
   "cell_type": "code",
   "execution_count": null,
   "metadata": {},
   "outputs": [],
   "source": [
    "v_mps"
   ]
  },
  {
   "cell_type": "code",
   "execution_count": null,
   "metadata": {},
   "outputs": [],
   "source": [
    "Ekin_J = 0.5 * m_kg * v_mps**2\n",
    "Ekin_J"
   ]
  },
  {
   "cell_type": "markdown",
   "metadata": {},
   "source": [
    "Now plotting will know how to label your x and y axis."
   ]
  },
  {
   "cell_type": "code",
   "execution_count": null,
   "metadata": {},
   "outputs": [],
   "source": [
    "Ekin_J.plot()"
   ]
  },
  {
   "cell_type": "markdown",
   "metadata": {},
   "source": [
    "## Adding metadeta"
   ]
  },
  {
   "cell_type": "markdown",
   "metadata": {},
   "source": [
    "Let's start adding labels and units so that the plotting is directly correct.\\\n",
    "'long_name' and 'units' are special attributes of DataArrays."
   ]
  },
  {
   "cell_type": "code",
   "execution_count": null,
   "metadata": {},
   "outputs": [],
   "source": [
    "Ekin_J.v_mps.attrs = {\"long_name\": \"Velocity\", \"units\": \"m/s\"}\n",
    "Ekin_J.m_kg.attrs = {\"long_name\": \"Mass\", \"units\": \"kg\"}\n",
    "Ekin_J.attrs = {\"long_name\": \"Energy\", \"units\": \"J\"}\n",
    "Ekin_J"
   ]
  },
  {
   "cell_type": "markdown",
   "metadata": {},
   "source": [
    "Clicking the document icon behind the coordinates allows you to inspect the attrs."
   ]
  },
  {
   "cell_type": "markdown",
   "metadata": {},
   "source": [
    "This gives us the desired plot directly."
   ]
  },
  {
   "cell_type": "code",
   "execution_count": null,
   "metadata": {},
   "outputs": [],
   "source": [
    "Ekin_J.plot()"
   ]
  },
  {
   "cell_type": "markdown",
   "metadata": {},
   "source": [
    "## Using a dataset"
   ]
  },
  {
   "cell_type": "markdown",
   "metadata": {},
   "source": [
    "The workflow can be simplified by using a `Dataset` from `xarray`. You can see the `Dataset` as a dictionary holding many `DataArrays`, which can share dimensions and coordinates.\n",
    "\n",
    "You can read and write something to a dataset using the `ds[\"name\"]` notation. You can only read using the `ds.name` notation.\n",
    "\n",
    "Assigning a `numpy` array to a dataset directly sets it as a coordinate."
   ]
  },
  {
   "cell_type": "code",
   "execution_count": null,
   "metadata": {},
   "outputs": [],
   "source": [
    "ds = xr.Dataset()\n",
    "ds[\"v_mps\"] = np.linspace(0, 10)\n",
    "ds.v_mps.attrs = {\"long_name\": \"Velocity\", \"units\": \"m/s\"}\n",
    "ds[\"m_kg\"] = np.linspace(3, 17)\n",
    "ds.m_kg.attrs = {\"long_name\": \"Mass\", \"units\": \"kg\"}\n",
    "ds[\"Ekin_J\"] = 0.5 * ds.m_kg * ds.v_mps**2\n",
    "ds.Ekin_J.attrs = {\"long_name\": \"Energy\", \"units\": \"J\"}\n",
    "ds"
   ]
  },
  {
   "cell_type": "code",
   "execution_count": null,
   "metadata": {},
   "outputs": [],
   "source": [
    "ds.Ekin_J.plot()"
   ]
  },
  {
   "cell_type": "markdown",
   "metadata": {},
   "source": [
    "## Using a function (clean coding)"
   ]
  },
  {
   "cell_type": "markdown",
   "metadata": {},
   "source": [
    "Now let's clean up the code by making use of a function:"
   ]
  },
  {
   "cell_type": "code",
   "execution_count": null,
   "metadata": {},
   "outputs": [],
   "source": [
    "def kinetic_energy_J(m_kg, v_mps):\n",
    "    return 0.5 * m_kg * v_mps**2\n",
    "\n",
    "\n",
    "ds = xr.Dataset()\n",
    "ds[\"v_mps\"] = np.linspace(0, 10)\n",
    "ds.v_mps.attrs = {\"long_name\": \"Velocity\", \"units\": \"m/s\"}\n",
    "ds[\"m_kg\"] = np.linspace(3, 17)\n",
    "ds.m_kg.attrs = {\"long_name\": \"Mass\", \"units\": \"kg\"}\n",
    "ds[\"Ekin_J\"] = kinetic_energy_J(ds.m_kg, ds.v_mps)\n",
    "ds.Ekin_J.attrs = {\"long_name\": \"Energy\", \"units\": \"J\"}\n",
    "ds"
   ]
  },
  {
   "cell_type": "markdown",
   "metadata": {},
   "source": [
    "## Using xr.apply_ufunc (clean coding and very powerful)"
   ]
  },
  {
   "cell_type": "markdown",
   "metadata": {},
   "source": [
    "The function call can also be done using `xr.apply_ufunc`. Eventhough the advantage is not clear now, it will be in the next notebook."
   ]
  },
  {
   "cell_type": "code",
   "execution_count": null,
   "metadata": {},
   "outputs": [],
   "source": [
    "def kinetic_energy_J(m_kg, v_mps):\n",
    "    return 0.5 * m_kg * v_mps**2\n",
    "\n",
    "\n",
    "ds = xr.Dataset()\n",
    "ds[\"v_mps\"] = np.linspace(0, 10)\n",
    "ds.v_mps.attrs = {\"long_name\": \"Velocity\", \"units\": \"m/s\"}\n",
    "ds[\"m_kg\"] = np.linspace(3, 17)\n",
    "ds.m_kg.attrs = {\"long_name\": \"Mass\", \"units\": \"kg\"}\n",
    "ds[\"Ekin_J\"] = xr.apply_ufunc(kinetic_energy_J, ds.m_kg, ds.v_mps)\n",
    "ds.Ekin_J.attrs = {\"long_name\": \"Energy\", \"units\": \"J\"}\n",
    "ds"
   ]
  }
 ],
 "metadata": {
  "kernelspec": {
   "display_name": ".venv",
   "language": "python",
   "name": "python3"
  },
  "language_info": {
   "codemirror_mode": {
    "name": "ipython",
    "version": 3
   },
   "file_extension": ".py",
   "mimetype": "text/x-python",
   "name": "python",
   "nbconvert_exporter": "python",
   "pygments_lexer": "ipython3",
   "version": "3.13.0"
  }
 },
 "nbformat": 4,
 "nbformat_minor": 2
}
